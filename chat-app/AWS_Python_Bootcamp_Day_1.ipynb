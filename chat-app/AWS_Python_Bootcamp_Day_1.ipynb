{
  "nbformat": 4,
  "nbformat_minor": 0,
  "metadata": {
    "colab": {
      "name": "AWS Python Bootcamp Day 1.ipynb",
      "provenance": []
    },
    "kernelspec": {
      "name": "python3",
      "display_name": "Python 3"
    }
  },
  "cells": [
    {
      "cell_type": "markdown",
      "metadata": {
        "id": "XxZXeR_kB9oB"
      },
      "source": [
        "# **Day 1** :\n",
        "\n",
        "An Introduction to Python\n",
        "\n",
        "Data Types, Operators, Variables, Files and Data Structures\n",
        "```\n",
        "# This is formatted as code\n",
        "```\n",
        "\n"
      ]
    },
    {
      "cell_type": "markdown",
      "metadata": {
        "id": "cqcv3gL9C2R1"
      },
      "source": [
        "# **Python is:**\n",
        "\n",
        "Object-Oriented\n",
        "\n",
        "Interprerted language\n",
        "\n",
        "Easy to learn\n",
        "\n",
        "Procedure Oriented\n",
        "\n",
        "Vast set of libraries and packages"
      ]
    },
    {
      "cell_type": "code",
      "metadata": {
        "colab": {
          "base_uri": "https://localhost:8080/"
        },
        "id": "wlq-a25PBtx5",
        "outputId": "4bd299da-f99f-499c-c066-251f725999e9"
      },
      "source": [
        "a = 16\n",
        "print(type(a))    \n",
        "a = 16.0\n",
        "print(type(a))\n",
        "a = 16j\n",
        "print(type(a))\n",
        "a = 'f'\n",
        "print(type(a))\n",
        "a = True\n",
        "print(type(a))"
      ],
      "execution_count": null,
      "outputs": [
        {
          "output_type": "stream",
          "text": [
            "<class 'int'>\n",
            "<class 'float'>\n",
            "<class 'complex'>\n",
            "<class 'str'>\n",
            "<class 'bool'>\n"
          ],
          "name": "stdout"
        }
      ]
    },
    {
      "cell_type": "markdown",
      "metadata": {
        "id": "kGDqa0b6EqwT"
      },
      "source": [
        "# **Operators** \n",
        "\n",
        "1. Arithmetic : +, -, /, *, %, //, **\n",
        "2. Logical : and, or, not\n",
        "3. Bitwise : &, |, ~, !\n",
        "4. Assignment : =, +=, -=, .....\n",
        "5. Comparison : <, >, <=, >=, ==\n",
        "6. Memebership : in , not in"
      ]
    },
    {
      "cell_type": "markdown",
      "metadata": {
        "id": "nck2vhWxF84a"
      },
      "source": [
        "# **Data Structures**\n",
        "\n",
        "1. List\n",
        "2. Tuple\n",
        "3. Set\n",
        "4. Dictionary\n"
      ]
    },
    {
      "cell_type": "markdown",
      "metadata": {
        "id": "8yBeL-kkPlHM"
      },
      "source": [
        "# **Lists**\n",
        "\n",
        "Data Structure to store multiple data values indexing possible\n"
      ]
    },
    {
      "cell_type": "code",
      "metadata": {
        "colab": {
          "base_uri": "https://localhost:8080/"
        },
        "id": "MHdcLTkjEFsv",
        "outputId": "5301322a-aa3f-4223-c795-a7ea2e8099b1"
      },
      "source": [
        "\n",
        "myList = ['Hello', 1, 87.67, 'World', 987]\n",
        "print(myList)\n",
        "len(myList)"
      ],
      "execution_count": null,
      "outputs": [
        {
          "output_type": "stream",
          "text": [
            "['Hello', 1, 87.67, 'World', 987]\n"
          ],
          "name": "stdout"
        },
        {
          "output_type": "execute_result",
          "data": {
            "text/plain": [
              "5"
            ]
          },
          "metadata": {
            "tags": []
          },
          "execution_count": 12
        }
      ]
    },
    {
      "cell_type": "code",
      "metadata": {
        "colab": {
          "base_uri": "https://localhost:8080/"
        },
        "id": "nbOLYSHEHbws",
        "outputId": "7aa9f4bc-41ab-4aa4-a549-6c9cdb5aeb5c"
      },
      "source": [
        "#remove Operation\n",
        "\n",
        "#Positional remove\n",
        "del(myList[2])\n",
        "myList\n",
        "\n",
        "myList = ['Hello', 1, 87.67, 'World', 987]\n",
        "#Paramaeterized remove\n",
        "myList.remove('Hello')\n",
        "myList"
      ],
      "execution_count": null,
      "outputs": [
        {
          "output_type": "execute_result",
          "data": {
            "text/plain": [
              "[1, 'World', 987]"
            ]
          },
          "metadata": {
            "tags": []
          },
          "execution_count": 13
        }
      ]
    },
    {
      "cell_type": "code",
      "metadata": {
        "id": "RULd5_HOIeYR"
      },
      "source": [
        "#pop Positional Operator\n",
        "myList = ['Hello', 1, 87.67, 'World', 987]\n",
        "myList.pop(2)"
      ],
      "execution_count": null,
      "outputs": []
    },
    {
      "cell_type": "code",
      "metadata": {
        "colab": {
          "base_uri": "https://localhost:8080/"
        },
        "id": "guoH7AoLIw8t",
        "outputId": "e4ffde18-d90a-471b-ead6-6b8750a8a819"
      },
      "source": [
        "#Check for presence\n",
        "4 in myList"
      ],
      "execution_count": null,
      "outputs": [
        {
          "output_type": "execute_result",
          "data": {
            "text/plain": [
              "False"
            ]
          },
          "metadata": {
            "tags": []
          },
          "execution_count": 14
        }
      ]
    },
    {
      "cell_type": "code",
      "metadata": {
        "colab": {
          "base_uri": "https://localhost:8080/"
        },
        "id": "PyhP_bhrI25X",
        "outputId": "90301a92-81b7-4ca1-ceba-25f6f2e28dc0"
      },
      "source": [
        "#Max/Min\n",
        "list1 = [1,2,3,4,5,6,7,8,9]\n",
        "print(max(list1))\n",
        "print(min(list1))"
      ],
      "execution_count": null,
      "outputs": [
        {
          "output_type": "stream",
          "text": [
            "9\n",
            "1\n"
          ],
          "name": "stdout"
        }
      ]
    },
    {
      "cell_type": "code",
      "metadata": {
        "colab": {
          "base_uri": "https://localhost:8080/"
        },
        "id": "LHhRMiwxJGAg",
        "outputId": "94c80945-cb02-4bbf-cc5e-15a1ee4d9d3b"
      },
      "source": [
        "#Adding elements to the list\n",
        "\n",
        "#Add single element : append()\n",
        "list2 = [420,89,76,477]\n",
        "list2.append(5)\n",
        "print(list2)\n",
        "\n",
        "#positional append()\n",
        "list2.insert(2,67)\n",
        "print(list2)\n",
        "\n",
        "#Multiple elements add : extend()\n",
        "list2.extend([4,5,6])\n",
        "print(list2)\n",
        "\n",
        "#What is the data type passed in extend function -> list"
      ],
      "execution_count": null,
      "outputs": [
        {
          "output_type": "stream",
          "text": [
            "[420, 89, 76, 477, 5]\n",
            "[420, 89, 67, 76, 477, 5]\n",
            "[420, 89, 67, 76, 477, 5, 4, 5, 6]\n"
          ],
          "name": "stdout"
        }
      ]
    },
    {
      "cell_type": "code",
      "metadata": {
        "colab": {
          "base_uri": "https://localhost:8080/"
        },
        "id": "w_VHVpjgKI3y",
        "outputId": "388d2b69-be20-42bd-8f17-da198f68cf99"
      },
      "source": [
        "#Reassignment\n",
        "list2[2] = 56\n",
        "print(list2)"
      ],
      "execution_count": null,
      "outputs": [
        {
          "output_type": "stream",
          "text": [
            "[420, 89, 56, 76, 477, 5, 4, 5, 6]\n"
          ],
          "name": "stdout"
        }
      ]
    },
    {
      "cell_type": "code",
      "metadata": {
        "colab": {
          "base_uri": "https://localhost:8080/"
        },
        "id": "LF1nZOdwT3dd",
        "outputId": "3de13d71-2934-4153-c445-ace116cd2024"
      },
      "source": [
        "#List Sorting - sort()\n",
        "list5 = [22,-90,-7,9,87,76,-1]\n",
        "list5.sort()\n",
        "print(list5)\n",
        "list5 = [22,-90,-7,9,87,76,-1]\n",
        "print(sorted(list5))      #list5 remains unchanged\n"
      ],
      "execution_count": null,
      "outputs": [
        {
          "output_type": "stream",
          "text": [
            "[-90, -7, -1, 9, 22, 76, 87]\n",
            "[-90, -7, -1, 9, 22, 76, 87]\n"
          ],
          "name": "stdout"
        }
      ]
    },
    {
      "cell_type": "markdown",
      "metadata": {
        "id": "g20mWIEKPsoi"
      },
      "source": [
        "# **Tuples**\n",
        "\n",
        "Immutable data structures as a collection of data types\n",
        "\n",
        "Cannot be extended or appended\n",
        "\n",
        "Same indexing as lists"
      ]
    },
    {
      "cell_type": "code",
      "metadata": {
        "colab": {
          "base_uri": "https://localhost:8080/"
        },
        "id": "5i_-EPKFP_iC",
        "outputId": "e12e4743-4273-4887-d9c5-bd79bfb38616"
      },
      "source": [
        "myTup = ('Hello',1,67.89,'World',98.98)\n",
        "print(myTup[2])\n",
        "print(myTup[-2])"
      ],
      "execution_count": null,
      "outputs": [
        {
          "output_type": "stream",
          "text": [
            "67.89\n",
            "World\n"
          ],
          "name": "stdout"
        }
      ]
    },
    {
      "cell_type": "code",
      "metadata": {
        "colab": {
          "base_uri": "https://localhost:8080/"
        },
        "id": "oI3EzaExQqCQ",
        "outputId": "a49ac0c2-fd31-453d-a39b-23687238870d"
      },
      "source": [
        "#Slicing\n",
        "\n",
        "print(myTup[0:])\n",
        "print(myTup[1:3])\n",
        "print(myTup[-2:-4])\n"
      ],
      "execution_count": null,
      "outputs": [
        {
          "output_type": "stream",
          "text": [
            "('Hello', 1, 67.89, 'World', 98.98)\n",
            "(1, 67.89)\n",
            "()\n"
          ],
          "name": "stdout"
        }
      ]
    },
    {
      "cell_type": "code",
      "metadata": {
        "colab": {
          "base_uri": "https://localhost:8080/"
        },
        "id": "kowdXtMsRD5W",
        "outputId": "8cf0d29e-680c-4e30-d012-1ab5c005518d"
      },
      "source": [
        "#Nested objects in Tuple\n",
        "#Can we enter a list inside a tuple?  Yes\n",
        "\n",
        "tuple1 = (10,20,30,[40,50,60])\n",
        "print(tuple1)\n",
        "tuple1[3][1] = 70\n",
        "print(tuple1)"
      ],
      "execution_count": null,
      "outputs": [
        {
          "output_type": "stream",
          "text": [
            "(10, 20, 30, [40, 50, 60])\n",
            "(10, 20, 30, [40, 70, 60])\n"
          ],
          "name": "stdout"
        }
      ]
    },
    {
      "cell_type": "code",
      "metadata": {
        "colab": {
          "base_uri": "https://localhost:8080/"
        },
        "id": "UXiYSwaWS1Tw",
        "outputId": "edb907eb-c715-438b-9528-b3810734117b"
      },
      "source": [
        "#Concatenation\n",
        "tuple2 = myTup + tuple1\n",
        "print(tuple2)"
      ],
      "execution_count": null,
      "outputs": [
        {
          "output_type": "stream",
          "text": [
            "('Hello', 1, 67.89, 'World', 98.98, 10, 20, 30, [40, 70, 60])\n"
          ],
          "name": "stdout"
        }
      ]
    },
    {
      "cell_type": "code",
      "metadata": {
        "colab": {
          "base_uri": "https://localhost:8080/",
          "height": 214
        },
        "id": "RZ8ImPJHTCcu",
        "outputId": "1338d092-e567-4c16-ecbe-70fbfbe75a1d"
      },
      "source": [
        "#Deletion\n",
        "\n",
        "del tuple1\n",
        "#print(tuple1)"
      ],
      "execution_count": null,
      "outputs": [
        {
          "output_type": "error",
          "ename": "NameError",
          "evalue": "ignored",
          "traceback": [
            "\u001b[0;31m---------------------------------------------------------------------------\u001b[0m",
            "\u001b[0;31mNameError\u001b[0m                                 Traceback (most recent call last)",
            "\u001b[0;32m<ipython-input-32-363faabd91f6>\u001b[0m in \u001b[0;36m<module>\u001b[0;34m()\u001b[0m\n\u001b[1;32m      1\u001b[0m \u001b[0;31m#Deletion\u001b[0m\u001b[0;34m\u001b[0m\u001b[0;34m\u001b[0m\u001b[0;34m\u001b[0m\u001b[0m\n\u001b[1;32m      2\u001b[0m \u001b[0;34m\u001b[0m\u001b[0m\n\u001b[0;32m----> 3\u001b[0;31m \u001b[0;32mdel\u001b[0m \u001b[0mtuple1\u001b[0m\u001b[0;34m\u001b[0m\u001b[0;34m\u001b[0m\u001b[0m\n\u001b[0m\u001b[1;32m      4\u001b[0m \u001b[0;31m#print(tuple1)\u001b[0m\u001b[0;34m\u001b[0m\u001b[0;34m\u001b[0m\u001b[0;34m\u001b[0m\u001b[0m\n",
            "\u001b[0;31mNameError\u001b[0m: name 'tuple1' is not defined"
          ]
        }
      ]
    },
    {
      "cell_type": "code",
      "metadata": {
        "colab": {
          "base_uri": "https://localhost:8080/"
        },
        "id": "cU00PpmxTQve",
        "outputId": "1a961523-840f-4296-bad8-f1d20b54eac8"
      },
      "source": [
        "#Tuple methods\n",
        "tuple3 = (1,1,1,1,2,3,6,45,98,99,99)\n",
        "\n",
        "print(tuple3.count(1))\n",
        "\n",
        "#Index\n",
        "print(tuple3.index(99))"
      ],
      "execution_count": null,
      "outputs": [
        {
          "output_type": "stream",
          "text": [
            "4\n",
            "9\n"
          ],
          "name": "stdout"
        }
      ]
    },
    {
      "cell_type": "markdown",
      "metadata": {
        "id": "BrO33lonZ08q"
      },
      "source": [
        "# **Dictionaries**\n",
        "\n",
        "Unordered Data Structures\n",
        "   \n",
        "Mutable  \n",
        "\n",
        "Indexed using Key-Value Pairs\n",
        "\n",
        "No Duplicate Memebers\n",
        "\n",
        "Keys can be of any data type\n",
        "\n",
        "\n",
        "\n",
        "\n"
      ]
    },
    {
      "cell_type": "code",
      "metadata": {
        "colab": {
          "base_uri": "https://localhost:8080/"
        },
        "id": "rxiZ05cHadKT",
        "outputId": "300a8cee-d5eb-4c9b-9745-d4ad23446ad2"
      },
      "source": [
        "myDict = {1:'Hello', 2:'World', 3:'Python'}\n",
        "print(myDict)\n",
        "print(myDict[2])\n",
        "#dict1 = ('A:'Arnab', 'B':'Bengal', 'C':'Calcutta')\n",
        "#print(dict1['B'])"
      ],
      "execution_count": null,
      "outputs": [
        {
          "output_type": "stream",
          "text": [
            "{1: 'Hello', 2: 'World', 3: 'Python'}\n",
            "World\n"
          ],
          "name": "stdout"
        }
      ]
    },
    {
      "cell_type": "code",
      "metadata": {
        "colab": {
          "base_uri": "https://localhost:8080/"
        },
        "id": "3HHPhJ0RbmzN",
        "outputId": "b76216d5-7611-4404-8c1a-ef153ac6f59a"
      },
      "source": [
        "#Update the dictionary with a new entry\n",
        "myDict.update({4:'Colab'})\n",
        "print(myDict)\n"
      ],
      "execution_count": null,
      "outputs": [
        {
          "output_type": "stream",
          "text": [
            "{1: 'Hello', 2: 'World', 3: 'Python', 4: 'Colab'}\n"
          ],
          "name": "stdout"
        }
      ]
    },
    {
      "cell_type": "code",
      "metadata": {
        "colab": {
          "base_uri": "https://localhost:8080/"
        },
        "id": "n7XFMCLgbK5P",
        "outputId": "844a8620-79c9-454a-b64a-d5cc34c43528"
      },
      "source": [
        "#Dictionary Functions\n",
        "print(myDict.get(2))\n",
        "print(myDict.values())\n",
        "print(myDict.keys())\n",
        "print(myDict.items())"
      ],
      "execution_count": null,
      "outputs": [
        {
          "output_type": "stream",
          "text": [
            "World\n",
            "dict_values(['Hello', 'World', 'Python'])\n",
            "dict_keys([1, 2, 3])\n",
            "dict_items([(1, 'Hello'), (2, 'World'), (3, 'Python')])\n"
          ],
          "name": "stdout"
        }
      ]
    },
    {
      "cell_type": "markdown",
      "metadata": {
        "id": "4X0BBr7Bb77S"
      },
      "source": [
        "# **Sets**\n",
        "\n",
        "Unordered Elements\n",
        "\n",
        "Unique Elements\n",
        "\n",
        "Not Indexed"
      ]
    },
    {
      "cell_type": "code",
      "metadata": {
        "colab": {
          "base_uri": "https://localhost:8080/"
        },
        "id": "BxKwxfBqcGxk",
        "outputId": "2fe76428-28a6-443a-b5c1-92ee5f15652e"
      },
      "source": [
        "set1 = {1,1,'hello',2.34,'World'}\n",
        "print(set1)"
      ],
      "execution_count": null,
      "outputs": [
        {
          "output_type": "stream",
          "text": [
            "{1, 'hello', 2.34, 'World'}\n"
          ],
          "name": "stdout"
        }
      ]
    },
    {
      "cell_type": "code",
      "metadata": {
        "colab": {
          "base_uri": "https://localhost:8080/"
        },
        "id": "V_ni1N0xcUAh",
        "outputId": "19e32315-c641-457d-fc38-6cef34c7cba5"
      },
      "source": [
        "#Give 2 ways where you can declare a set\n",
        "\n",
        "b = set([1,2,3,4,2,4,1])\n",
        "print(b)"
      ],
      "execution_count": null,
      "outputs": [
        {
          "output_type": "stream",
          "text": [
            "{1, 2, 3, 4}\n"
          ],
          "name": "stdout"
        }
      ]
    },
    {
      "cell_type": "code",
      "metadata": {
        "colab": {
          "base_uri": "https://localhost:8080/"
        },
        "id": "4xymn3Bkcn9A",
        "outputId": "145fcde6-31e0-4980-9c06-d1d51ffb12b4"
      },
      "source": [
        "#Set Functions\n",
        "\n",
        "print(len(set1))"
      ],
      "execution_count": null,
      "outputs": [
        {
          "output_type": "stream",
          "text": [
            "4\n"
          ],
          "name": "stdout"
        }
      ]
    },
    {
      "cell_type": "code",
      "metadata": {
        "colab": {
          "base_uri": "https://localhost:8080/"
        },
        "id": "cbSsUhfEcwAZ",
        "outputId": "3fe3603f-eae0-4a69-95c4-0beffd512b82"
      },
      "source": [
        "#Addition of Elements\n",
        "\n",
        "#Single Elements\n",
        "set1.add(7)\n",
        "print(set1)\n",
        "\n",
        "#multiple Elements\n",
        "set1.update([1,6,35,7])\n",
        "print(set1)"
      ],
      "execution_count": null,
      "outputs": [
        {
          "output_type": "stream",
          "text": [
            "{1, 2.34, 7, 'hello', 'World'}\n",
            "{1, 2.34, 35, 6, 7, 'hello', 'World'}\n"
          ],
          "name": "stdout"
        }
      ]
    },
    {
      "cell_type": "code",
      "metadata": {
        "colab": {
          "base_uri": "https://localhost:8080/"
        },
        "id": "DNP-jqxjdD0C",
        "outputId": "f8bc7404-7420-45f6-f7fd-97cc8ea639b1"
      },
      "source": [
        "#Remove\n",
        "\n",
        "#Single element removal if sure of presence\n",
        "set1.remove(1)\n",
        "print(set1)\n",
        "\n",
        "#Single element removal if not sure of presence\n",
        "set1.discard('l')\n",
        "print(set1)\n",
        "\n",
        "#Pop\n",
        "set1.pop()\n",
        "print(set1)\n"
      ],
      "execution_count": null,
      "outputs": [
        {
          "output_type": "stream",
          "text": [
            "{2.34, 35, 6, 7, 'hello', 'World'}\n",
            "{2.34, 35, 6, 7, 'hello', 'World'}\n",
            "{35, 6, 7, 'hello', 'World'}\n"
          ],
          "name": "stdout"
        }
      ]
    },
    {
      "cell_type": "code",
      "metadata": {
        "colab": {
          "base_uri": "https://localhost:8080/"
        },
        "id": "tihoqxLmdjqt",
        "outputId": "8ee79aeb-14cf-4978-dc29-9a7a592dc76a"
      },
      "source": [
        "#Set operations\n",
        "\n",
        "#Union\n",
        "print(set1|b)\n",
        "print(set1.union(b))\n",
        "\n",
        "#Intersection\n",
        "print(set1 & b)\n",
        "print(set1.intersection(b))\n",
        "\n",
        "#Difference\n",
        "print(set1 - b)\n",
        "print(set1.difference(b))"
      ],
      "execution_count": null,
      "outputs": [
        {
          "output_type": "stream",
          "text": [
            "{1, 2.34, 35, 2, 3, 6, 7, 4, 'hello', 'World'}\n",
            "{1, 2.34, 35, 2, 3, 6, 7, 4, 'hello', 'World'}\n",
            "{1}\n",
            "{1}\n",
            "{2.34, 35, 6, 7, 'hello', 'World'}\n",
            "{2.34, 35, 6, 7, 'hello', 'World'}\n"
          ],
          "name": "stdout"
        }
      ]
    },
    {
      "cell_type": "markdown",
      "metadata": {
        "id": "gBz2BX2ChxuU"
      },
      "source": [
        "# **File Handling**\n",
        "- Read\n",
        "- Write\n",
        "- Append"
      ]
    },
    {
      "cell_type": "code",
      "metadata": {
        "id": "js_x1fa3iA0X"
      },
      "source": [
        "import os "
      ],
      "execution_count": null,
      "outputs": []
    },
    {
      "cell_type": "code",
      "metadata": {
        "colab": {
          "base_uri": "https://localhost:8080/",
          "height": 265
        },
        "id": "VlrZ4nKykRE5",
        "outputId": "55c1c715-b70b-4425-8a27-ed47d8f010f7"
      },
      "source": [
        "#Read Operation\n",
        "\n",
        "f = open('H:\\Online Applications 2020-21\\Techno Main\\2013001028_CSE_A_1styr_2020\\Clubs\\IIC\\Feb 2021\\Python Bootcamp\\Day 1', \"r\")\n",
        "print(f.read())"
      ],
      "execution_count": null,
      "outputs": [
        {
          "output_type": "error",
          "ename": "FileNotFoundError",
          "evalue": "ignored",
          "traceback": [
            "\u001b[0;31m---------------------------------------------------------------------------\u001b[0m",
            "\u001b[0;31mFileNotFoundError\u001b[0m                         Traceback (most recent call last)",
            "\u001b[0;32m<ipython-input-80-83e43944e5f1>\u001b[0m in \u001b[0;36m<module>\u001b[0;34m()\u001b[0m\n\u001b[1;32m      1\u001b[0m \u001b[0;31m#Read Operation\u001b[0m\u001b[0;34m\u001b[0m\u001b[0;34m\u001b[0m\u001b[0;34m\u001b[0m\u001b[0m\n\u001b[1;32m      2\u001b[0m \u001b[0;34m\u001b[0m\u001b[0m\n\u001b[0;32m----> 3\u001b[0;31m \u001b[0mf\u001b[0m \u001b[0;34m=\u001b[0m \u001b[0mopen\u001b[0m\u001b[0;34m(\u001b[0m\u001b[0;34m'H:\\Online Applications 2020-21\\Techno Main\\2013001028_CSE_A_1styr_2020\\Clubs\\IIC\\Feb 2021\\Python Bootcamp\\Day 1'\u001b[0m\u001b[0;34m,\u001b[0m \u001b[0;34m\"r\"\u001b[0m\u001b[0;34m)\u001b[0m\u001b[0;34m\u001b[0m\u001b[0;34m\u001b[0m\u001b[0m\n\u001b[0m\u001b[1;32m      4\u001b[0m \u001b[0mprint\u001b[0m\u001b[0;34m(\u001b[0m\u001b[0mf\u001b[0m\u001b[0;34m.\u001b[0m\u001b[0mread\u001b[0m\u001b[0;34m(\u001b[0m\u001b[0;34m)\u001b[0m\u001b[0;34m)\u001b[0m\u001b[0;34m\u001b[0m\u001b[0;34m\u001b[0m\u001b[0m\n",
            "\u001b[0;31mFileNotFoundError\u001b[0m: [Errno 2] No such file or directory: 'H:\\\\Online Applications 2020-21\\\\Techno Main\\x813001028_CSE_A_1styr_2020\\\\Clubs\\\\IIC\\\\Feb 2021\\\\Python Bootcamp\\\\Day 1'"
          ]
        }
      ]
    }
  ]
}
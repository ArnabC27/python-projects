{
  "nbformat": 4,
  "nbformat_minor": 0,
  "metadata": {
    "colab": {
      "name": "AWS Python Workshop Day 2.ipynb",
      "provenance": []
    },
    "kernelspec": {
      "name": "python3",
      "display_name": "Python 3"
    }
  },
  "cells": [
    {
      "cell_type": "markdown",
      "metadata": {
        "id": "QnwMDx9bm9Z2"
      },
      "source": [
        "# **Day 2**\n",
        "\n",
        "- Functions\n",
        "- Conditionals and Loops\n",
        "- Classes and Objects\n",
        "- Namespaces and Scopes\n",
        "- Numpy\n",
        "- Matplotlib\n",
        "- Overview of Tkinter"
      ]
    },
    {
      "cell_type": "markdown",
      "metadata": {
        "id": "hOpnv1FGpeAs"
      },
      "source": [
        "# **Functions**\n",
        "- Group of logical statements formed into executable blocks\n",
        "- Reuasable Code"
      ]
    },
    {
      "cell_type": "code",
      "metadata": {
        "colab": {
          "base_uri": "https://localhost:8080/"
        },
        "id": "xxrx5gcvmO88",
        "outputId": "747f7ca6-154d-435b-d552-1c958858de9d"
      },
      "source": [
        "#Self-defined function\n",
        "# def function_name(parameters):\n",
        "\n",
        "def function(s):\n",
        "  print('Hello World')\n",
        "  print(s**2)\n",
        "\n",
        "s = (int)(input('Enter a number: '))\n",
        "#Invoking a fuction - Call the function\n",
        "function(s)"
      ],
      "execution_count": null,
      "outputs": [
        {
          "output_type": "stream",
          "text": [
            "Enter a number: 3\n",
            "Hello World\n",
            "9\n"
          ],
          "name": "stdout"
        }
      ]
    },
    {
      "cell_type": "code",
      "metadata": {
        "colab": {
          "base_uri": "https://localhost:8080/"
        },
        "id": "ao_N6vL1qgwx",
        "outputId": "67f13de7-8e51-4e75-dc3b-e5d5bb14ef80"
      },
      "source": [
        "#Lambda function or one-line function\n",
        "# function_name = lambda x : x * 2\n",
        "\n",
        "def add(x,y):\n",
        "  return(x+y)\n",
        "print(add(3,1))\n",
        "\n",
        "add = lambda x,y : x+y\n",
        "print(add(4,5))\n"
      ],
      "execution_count": null,
      "outputs": [
        {
          "output_type": "stream",
          "text": [
            "4\n",
            "9\n"
          ],
          "name": "stdout"
        }
      ]
    },
    {
      "cell_type": "markdown",
      "metadata": {
        "id": "p2YYDa1PrGXn"
      },
      "source": [
        "# **Conditional Statements**"
      ]
    },
    {
      "cell_type": "code",
      "metadata": {
        "colab": {
          "base_uri": "https://localhost:8080/"
        },
        "id": "qwWht6uVrKjn",
        "outputId": "7d1c521a-895a-4eef-947c-e411e6c5be40"
      },
      "source": [
        "a = 9\n",
        "if a < 10 and a > 5:\n",
        "  print('Yes')\n",
        "elif a < 5:\n",
        "  print('No')\n",
        "else:\n",
        "  print('Never')"
      ],
      "execution_count": null,
      "outputs": [
        {
          "output_type": "stream",
          "text": [
            "Yes\n"
          ],
          "name": "stdout"
        }
      ]
    },
    {
      "cell_type": "markdown",
      "metadata": {
        "id": "k9MieMYpsCFV"
      },
      "source": [
        "# **Loops**"
      ]
    },
    {
      "cell_type": "code",
      "metadata": {
        "colab": {
          "base_uri": "https://localhost:8080/"
        },
        "id": "TkA9b2GfsEHr",
        "outputId": "e5ade31c-22a6-4760-d13c-47d6e053a401"
      },
      "source": [
        "#While Loop\n",
        "'''while condition:\n",
        "      statements\n",
        "'''\n",
        "\n",
        "count = 0\n",
        "while count < 9:\n",
        "  print('Number : ',count)\n",
        "  count += 1\n",
        "print('End of Loop')\n"
      ],
      "execution_count": null,
      "outputs": [
        {
          "output_type": "stream",
          "text": [
            "Number :  0\n",
            "Number :  1\n",
            "Number :  2\n",
            "Number :  3\n",
            "Number :  4\n",
            "Number :  5\n",
            "Number :  6\n",
            "Number :  7\n",
            "Number :  8\n",
            "End of Loop\n"
          ],
          "name": "stdout"
        }
      ]
    },
    {
      "cell_type": "code",
      "metadata": {
        "colab": {
          "base_uri": "https://localhost:8080/"
        },
        "id": "3ZVJqLeDsq0K",
        "outputId": "f972f17f-fc2a-4292-8948-bd53dddc7a5c"
      },
      "source": [
        "#For Loop\n",
        "\n",
        "for i in range(1,10):\n",
        "  print(i)\n",
        "\n",
        "for nm in ['Imran','Tom','Harry','Zoey']:\n",
        "  invite = 'Hi ' + name + ' Please come to my party'\n",
        "  print(invite)"
      ],
      "execution_count": null,
      "outputs": [
        {
          "output_type": "stream",
          "text": [
            "1\n",
            "2\n",
            "3\n",
            "4\n",
            "5\n",
            "6\n",
            "7\n",
            "8\n",
            "9\n",
            "Hi Zoey Please come to my party\n",
            "Hi Zoey Please come to my party\n",
            "Hi Zoey Please come to my party\n",
            "Hi Zoey Please come to my party\n"
          ],
          "name": "stdout"
        }
      ]
    },
    {
      "cell_type": "code",
      "metadata": {
        "colab": {
          "base_uri": "https://localhost:8080/"
        },
        "id": "DnixPszIuOoJ",
        "outputId": "22f48ce0-4df1-4b0f-cd02-f25bd700d6c6"
      },
      "source": [
        "'''\n",
        "1 to 100 units – Rs. 10/unit\n",
        "100 to 200 units – Rs. 15/unit\n",
        "200 to 300 units – Rs. 20/unit\n",
        "above 300 units – Rs. 25/unit\n",
        "Generate an electricity bill with user input units\n",
        "'''\n",
        "\n",
        "units = (int)(input('Enter no. of units consumed : '))\n",
        "bill_amt = 0\n",
        "if units <= 100:\n",
        "  bill_amt = bill_amt + 10 * units\n",
        "elif units <= 200 and units > 100:\n",
        "  bill_amt = bill_amt + 15 * units\n",
        "elif units <= 300 and units > 200:\n",
        "  bill_amt = bill_amt + 20 * units\n",
        "else:\n",
        "  bill_amt = bill_amt + 25 * units\n",
        "\n",
        "print('Bill Amount : ',bill_amt)"
      ],
      "execution_count": null,
      "outputs": [
        {
          "output_type": "stream",
          "text": [
            "Enter no. of units consumed : 76867\n",
            "Bill Amount :  1921675\n"
          ],
          "name": "stdout"
        }
      ]
    },
    {
      "cell_type": "markdown",
      "metadata": {
        "id": "1R44w9Qj3wCn"
      },
      "source": [
        "# **Special lambda Functions**\n",
        "- Filters\n",
        "- Maps\n",
        "- Reducers\n",
        "- Accumulators"
      ]
    },
    {
      "cell_type": "code",
      "metadata": {
        "colab": {
          "base_uri": "https://localhost:8080/"
        },
        "id": "kKdCe-X50Mdp",
        "outputId": "36b92e36-1094-4930-88a3-6f0850013a30"
      },
      "source": [
        "#Filter\n",
        "list1 = [3,76,87,99,87,53,2,1]\n",
        "final_list = list(filter(lambda x:(x%2 == 0),list1))\n",
        "print(final_list)"
      ],
      "execution_count": null,
      "outputs": [
        {
          "output_type": "stream",
          "text": [
            "[76, 2]\n"
          ],
          "name": "stdout"
        }
      ]
    },
    {
      "cell_type": "code",
      "metadata": {
        "colab": {
          "base_uri": "https://localhost:8080/"
        },
        "id": "GcY-ullY0pbx",
        "outputId": "3603072d-721b-40ed-fab1-f6f26566388a"
      },
      "source": [
        "#Maps\n",
        "varList = [0,10,20,0,90,30,1]\n",
        "out = list(map(lambda var:var*10,varList))\n",
        "print(out)"
      ],
      "execution_count": null,
      "outputs": [
        {
          "output_type": "stream",
          "text": [
            "[0, 100, 200, 0, 900, 300, 10]\n"
          ],
          "name": "stdout"
        }
      ]
    },
    {
      "cell_type": "code",
      "metadata": {
        "colab": {
          "base_uri": "https://localhost:8080/"
        },
        "id": "oakhoiEE1GDe",
        "outputId": "61149dfc-e67b-4aea-b392-ac44504ff7b5"
      },
      "source": [
        "#Reducer\n",
        "import functools as f\n",
        "import operator as o\n",
        "\n",
        "list2 = [1,2,3,4,5,6,7,8,9]\n",
        "sum = f.reduce(o.add,list2)\n",
        "print(sum)"
      ],
      "execution_count": null,
      "outputs": [
        {
          "output_type": "stream",
          "text": [
            "45\n"
          ],
          "name": "stdout"
        }
      ]
    },
    {
      "cell_type": "code",
      "metadata": {
        "colab": {
          "base_uri": "https://localhost:8080/"
        },
        "id": "raf8zSuI1reE",
        "outputId": "d819db9d-6d14-4676-80b0-09c5e9a212c2"
      },
      "source": [
        "#Accumulators\n",
        "import itertools as i\n",
        "\n",
        "list3 = [1,2,3,4,5,6,7,8,9]\n",
        "print('The summation of list is : ',end=' ')\n",
        "print(list(i.accumulate(list3,lambda x,y : x+y)))\n",
        "print('The products of list is : ',end=' ')\n",
        "print(list(i.accumulate(list3,lambda x,y : x*y)))"
      ],
      "execution_count": null,
      "outputs": [
        {
          "output_type": "stream",
          "text": [
            "The summation of list is :  [1, 3, 6, 10, 15, 21, 28, 36, 45]\n",
            "The products of list is :  [1, 2, 6, 24, 120, 720, 5040, 40320, 362880]\n"
          ],
          "name": "stdout"
        }
      ]
    },
    {
      "cell_type": "markdown",
      "metadata": {
        "id": "iQT1z4LM5zl5"
      },
      "source": [
        "# **Scope and Namespaces**\n",
        "- Scopes - Local Scope, Non-local Scope, Global, Built-in"
      ]
    },
    {
      "cell_type": "code",
      "metadata": {
        "colab": {
          "base_uri": "https://localhost:8080/"
        },
        "id": "qi_bS3QG5wuy",
        "outputId": "fbf8f410-3e24-4536-f732-f2d14d602412"
      },
      "source": [
        "def imran():\n",
        "  def local_func():\n",
        "    name = 'name1'\n",
        "  def non_local():\n",
        "    nonlocal name \n",
        "    name = 'Bootcamp'\n",
        "  def global_func():\n",
        "    global name \n",
        "    name = 'Roshan'\n",
        "  name = 'Hello'\n",
        "  local_func()\n",
        "  print(name)\n",
        "  non_local()\n",
        "  print(name)\n",
        "  global_func()\n",
        "  print(name)\n",
        "\n",
        "imran()\n",
        "print(name)\n"
      ],
      "execution_count": null,
      "outputs": [
        {
          "output_type": "stream",
          "text": [
            "Hello\n",
            "Bootcamp\n",
            "Bootcamp\n",
            "Roshan\n"
          ],
          "name": "stdout"
        }
      ]
    },
    {
      "cell_type": "markdown",
      "metadata": {
        "id": "NPFSptnM7E1c"
      },
      "source": [
        "# **Class**\n",
        "It is a bundle of functionalities containing objects\n",
        "\n",
        "Is class an object - Yes\n",
        "\n",
        "Is object a class - No"
      ]
    },
    {
      "cell_type": "code",
      "metadata": {
        "colab": {
          "base_uri": "https://localhost:8080/"
        },
        "id": "OxfSQqd57ZtS",
        "outputId": "8af1c44d-5fb2-4e99-ae0a-24449fbbbe21"
      },
      "source": [
        "class imran:\n",
        "  def func(self):\n",
        "    print('Hello World')\n",
        "\n",
        "x = imran()\n",
        "x.func()"
      ],
      "execution_count": null,
      "outputs": [
        {
          "output_type": "stream",
          "text": [
            "Hello World\n"
          ],
          "name": "stdout"
        }
      ]
    },
    {
      "cell_type": "code",
      "metadata": {
        "colab": {
          "base_uri": "https://localhost:8080/"
        },
        "id": "JUW21L6T8vu1",
        "outputId": "43d735a6-7511-4a4e-e056-27f72c55e4f1"
      },
      "source": [
        "#Constructor\n",
        "class Roshan:\n",
        "  def __init__(self,name):\n",
        "    self.name = name\n",
        "\n",
        "x = Roshan('Python')\n",
        "print(x.name)"
      ],
      "execution_count": null,
      "outputs": [
        {
          "output_type": "stream",
          "text": [
            "Python\n"
          ],
          "name": "stdout"
        }
      ]
    },
    {
      "cell_type": "code",
      "metadata": {
        "colab": {
          "base_uri": "https://localhost:8080/"
        },
        "id": "9axT86L49N98",
        "outputId": "244b615a-008f-481c-aeba-3b029b5e7bda"
      },
      "source": [
        "#Instance variables\n",
        "class Arnab():\n",
        "  def __init__(self,name):\n",
        "    self.name = 'Python'\n",
        "    self.course = 'Bootcamp'\n",
        "  def func(self):\n",
        "    name = 'Imran'\n",
        "    print('This is a function')\n",
        "\n",
        "x = Arnab(name)\n",
        "print(x.course)\n",
        "func = x.func\n",
        "print(func())"
      ],
      "execution_count": null,
      "outputs": [
        {
          "output_type": "stream",
          "text": [
            "Bootcamp\n",
            "This is a function\n",
            "None\n"
          ],
          "name": "stdout"
        }
      ]
    },
    {
      "cell_type": "markdown",
      "metadata": {
        "id": "_9nIYmyBBg-f"
      },
      "source": [
        "# **Numpy**\n",
        "- used generally for advanced mathematical operations\n",
        "- vectors, matrices, tensors"
      ]
    },
    {
      "cell_type": "code",
      "metadata": {
        "id": "pnHm8CW8BuII"
      },
      "source": [
        "import numpy as np"
      ],
      "execution_count": null,
      "outputs": []
    },
    {
      "cell_type": "code",
      "metadata": {
        "colab": {
          "base_uri": "https://localhost:8080/"
        },
        "id": "Y6QxFSF7Bzdd",
        "outputId": "faa9b2bc-cb4e-4f98-edb0-2d9bf27a553f"
      },
      "source": [
        "#Trigonometric operations\n",
        "\n",
        "print(np.cos(np.pi))\n",
        "print(np.sqrt(1.21))\n",
        "print(np.log(np.exp(50)))\n"
      ],
      "execution_count": null,
      "outputs": [
        {
          "output_type": "stream",
          "text": [
            "-1.0\n",
            "1.1\n",
            "50.0\n"
          ],
          "name": "stdout"
        }
      ]
    },
    {
      "cell_type": "code",
      "metadata": {
        "colab": {
          "base_uri": "https://localhost:8080/"
        },
        "id": "n__O6wO6CTWs",
        "outputId": "a246ff9f-223c-4531-b53f-b8b3fb8b8fde"
      },
      "source": [
        "#Vectors\n",
        "vec = np.array([1,2,3])\n",
        "print(vec)\n",
        "mat = np.array([[1,2,3],[4,5,6],[7,8,9]])\n",
        "print(mat)\n",
        "print(mat.T)"
      ],
      "execution_count": null,
      "outputs": [
        {
          "output_type": "stream",
          "text": [
            "[1 2 3]\n",
            "[[1 2 3]\n",
            " [4 5 6]\n",
            " [7 8 9]]\n",
            "[[1 4 7]\n",
            " [2 5 8]\n",
            " [3 6 9]]\n"
          ],
          "name": "stdout"
        }
      ]
    },
    {
      "cell_type": "code",
      "metadata": {
        "colab": {
          "base_uri": "https://localhost:8080/"
        },
        "id": "UxKI9yAwC9Wh",
        "outputId": "8fdfa67f-85bf-4881-c0cb-31e2b94f9420"
      },
      "source": [
        "#Arange\n",
        "vec2 = np.arange(0,15,2)\n",
        "print(vec2)\n",
        "\n",
        "#Linear Spacing\n",
        "vec3 = np.linspace(0,5,10)\n",
        "print(vec3)"
      ],
      "execution_count": null,
      "outputs": [
        {
          "output_type": "stream",
          "text": [
            "[ 0  2  4  6  8 10 12 14]\n",
            "[0.         0.55555556 1.11111111 1.66666667 2.22222222 2.77777778\n",
            " 3.33333333 3.88888889 4.44444444 5.        ]\n"
          ],
          "name": "stdout"
        }
      ]
    },
    {
      "cell_type": "code",
      "metadata": {
        "colab": {
          "base_uri": "https://localhost:8080/"
        },
        "id": "MNkR30x7Dbdx",
        "outputId": "7aeed470-ca79-4d82-f63c-74d08b8f155d"
      },
      "source": [
        "#Reshape\n",
        "print(vec3.reshape(5,2))"
      ],
      "execution_count": null,
      "outputs": [
        {
          "output_type": "stream",
          "text": [
            "[[0.         0.55555556]\n",
            " [1.11111111 1.66666667]\n",
            " [2.22222222 2.77777778]\n",
            " [3.33333333 3.88888889]\n",
            " [4.44444444 5.        ]]\n"
          ],
          "name": "stdout"
        }
      ]
    },
    {
      "cell_type": "code",
      "metadata": {
        "colab": {
          "base_uri": "https://localhost:8080/"
        },
        "id": "_yO3XmjwDklo",
        "outputId": "2df6c1e1-6b7b-4f17-b9d1-37a72e099aff"
      },
      "source": [
        "#Random Vector\n",
        "rand_vec = np.random.randn(15)\n",
        "print(rand_vec[rand_vec < 0])"
      ],
      "execution_count": null,
      "outputs": [
        {
          "output_type": "stream",
          "text": [
            "[-0.631807   -1.22261002 -0.03553858 -0.00767904 -0.79157292 -0.96391907\n",
            " -0.306259   -0.5223025  -1.26439951]\n"
          ],
          "name": "stdout"
        }
      ]
    },
    {
      "cell_type": "markdown",
      "metadata": {
        "id": "W0uCPAqPJIYS"
      },
      "source": [
        "# **Pandas**"
      ]
    },
    {
      "cell_type": "code",
      "metadata": {
        "id": "SerklM25JToO"
      },
      "source": [
        "import pandas as pd\n",
        "import numpy as np"
      ],
      "execution_count": null,
      "outputs": []
    },
    {
      "cell_type": "code",
      "metadata": {
        "id": "y74dtkoEJY0V",
        "colab": {
          "base_uri": "https://localhost:8080/"
        },
        "outputId": "31e380d2-2feb-4ddb-a630-a7ce99b7cb7f"
      },
      "source": [
        "myList = [3.4,7.8,1.7,99.99]\n",
        "myArray = np.array(myList)\n",
        "myArray"
      ],
      "execution_count": null,
      "outputs": [
        {
          "output_type": "execute_result",
          "data": {
            "text/plain": [
              "array([ 3.4 ,  7.8 ,  1.7 , 99.99])"
            ]
          },
          "metadata": {
            "tags": []
          },
          "execution_count": 7
        }
      ]
    },
    {
      "cell_type": "code",
      "metadata": {
        "colab": {
          "base_uri": "https://localhost:8080/"
        },
        "id": "3TqITHGhJo2d",
        "outputId": "bec2831d-bbcb-4220-b1aa-5663094e12d1"
      },
      "source": [
        "mySeries1 = pd.Series(data=myList)\n",
        "mySeries1"
      ],
      "execution_count": null,
      "outputs": [
        {
          "output_type": "execute_result",
          "data": {
            "text/plain": [
              "0     3.40\n",
              "1     7.80\n",
              "2     1.70\n",
              "3    99.99\n",
              "dtype: float64"
            ]
          },
          "metadata": {
            "tags": []
          },
          "execution_count": 8
        }
      ]
    },
    {
      "cell_type": "code",
      "metadata": {
        "colab": {
          "base_uri": "https://localhost:8080/"
        },
        "id": "ha64z8FwxvWI",
        "outputId": "70b7c94a-ae7b-4e5c-e48c-0f05c703de6e"
      },
      "source": [
        "mySeries2 = pd.Series(data=myArray)\n",
        "mySeries2"
      ],
      "execution_count": null,
      "outputs": [
        {
          "output_type": "execute_result",
          "data": {
            "text/plain": [
              "0     3.40\n",
              "1     7.80\n",
              "2     1.70\n",
              "3    99.99\n",
              "dtype: float64"
            ]
          },
          "metadata": {
            "tags": []
          },
          "execution_count": 9
        }
      ]
    },
    {
      "cell_type": "code",
      "metadata": {
        "colab": {
          "base_uri": "https://localhost:8080/"
        },
        "id": "k0BAPV5hx3Ot",
        "outputId": "25f46c6a-2e13-4965-a0be-64e75316440c"
      },
      "source": [
        "#Indexing\n",
        "\n",
        "myLabels = ['First','Second','Third','Fourth']\n",
        "mySeries3 = pd.Series(data=myList, index=myLabels)\n",
        "mySeries3"
      ],
      "execution_count": null,
      "outputs": [
        {
          "output_type": "execute_result",
          "data": {
            "text/plain": [
              "First      3.40\n",
              "Second     7.80\n",
              "Third      1.70\n",
              "Fourth    99.99\n",
              "dtype: float64"
            ]
          },
          "metadata": {
            "tags": []
          },
          "execution_count": 10
        }
      ]
    },
    {
      "cell_type": "code",
      "metadata": {
        "colab": {
          "base_uri": "https://localhost:8080/",
          "height": 173
        },
        "id": "iBGoAN1yyU5L",
        "outputId": "8a1da78a-257b-4243-f036-df2fec89b897"
      },
      "source": [
        "#DataFrame\n",
        "\n",
        "df1 = pd.concat([mySeries1,mySeries2], axis=1, sort=False)\n",
        "df1"
      ],
      "execution_count": null,
      "outputs": [
        {
          "output_type": "execute_result",
          "data": {
            "text/html": [
              "<div>\n",
              "<style scoped>\n",
              "    .dataframe tbody tr th:only-of-type {\n",
              "        vertical-align: middle;\n",
              "    }\n",
              "\n",
              "    .dataframe tbody tr th {\n",
              "        vertical-align: top;\n",
              "    }\n",
              "\n",
              "    .dataframe thead th {\n",
              "        text-align: right;\n",
              "    }\n",
              "</style>\n",
              "<table border=\"1\" class=\"dataframe\">\n",
              "  <thead>\n",
              "    <tr style=\"text-align: right;\">\n",
              "      <th></th>\n",
              "      <th>0</th>\n",
              "      <th>1</th>\n",
              "    </tr>\n",
              "  </thead>\n",
              "  <tbody>\n",
              "    <tr>\n",
              "      <th>0</th>\n",
              "      <td>3.40</td>\n",
              "      <td>3.40</td>\n",
              "    </tr>\n",
              "    <tr>\n",
              "      <th>1</th>\n",
              "      <td>7.80</td>\n",
              "      <td>7.80</td>\n",
              "    </tr>\n",
              "    <tr>\n",
              "      <th>2</th>\n",
              "      <td>1.70</td>\n",
              "      <td>1.70</td>\n",
              "    </tr>\n",
              "    <tr>\n",
              "      <th>3</th>\n",
              "      <td>99.99</td>\n",
              "      <td>99.99</td>\n",
              "    </tr>\n",
              "  </tbody>\n",
              "</table>\n",
              "</div>"
            ],
            "text/plain": [
              "       0      1\n",
              "0   3.40   3.40\n",
              "1   7.80   7.80\n",
              "2   1.70   1.70\n",
              "3  99.99  99.99"
            ]
          },
          "metadata": {
            "tags": []
          },
          "execution_count": 11
        }
      ]
    },
    {
      "cell_type": "code",
      "metadata": {
        "colab": {
          "base_uri": "https://localhost:8080/"
        },
        "id": "PtK8OM28yh6b",
        "outputId": "9205cf98-4707-4dcb-e405-d6cb43e30133"
      },
      "source": [
        "#Access Individual series\n",
        "print(df1.loc[1])\n",
        "print(df1.iloc[1])"
      ],
      "execution_count": null,
      "outputs": [
        {
          "output_type": "stream",
          "text": [
            "0    7.8\n",
            "1    7.8\n",
            "Name: 1, dtype: float64\n",
            "0    7.8\n",
            "1    7.8\n",
            "Name: 1, dtype: float64\n"
          ],
          "name": "stdout"
        }
      ]
    },
    {
      "cell_type": "code",
      "metadata": {
        "id": "DNwwprgayvhR"
      },
      "source": [
        "#Difference Between loc and iloc?"
      ],
      "execution_count": null,
      "outputs": []
    },
    {
      "cell_type": "code",
      "metadata": {
        "colab": {
          "base_uri": "https://localhost:8080/",
          "height": 173
        },
        "id": "Ofi4DbAVyzcK",
        "outputId": "3fd75327-d3ee-4860-e8c8-2660eb3d7d81"
      },
      "source": [
        "data = {'Name':['Jai', 'Princi', 'Gaurav', 'Anuj'], \n",
        "        'Age':[27, 24, 22, 32], \n",
        "        'Address':['Delhi', 'Kanpur', 'Allahabad', 'Kannauj'], \n",
        "        'Qualification':['Msc', 'MA', 'MCA', 'Phd']} \n",
        "df = pd.DataFrame(data)\n",
        "df"
      ],
      "execution_count": null,
      "outputs": [
        {
          "output_type": "execute_result",
          "data": {
            "text/html": [
              "<div>\n",
              "<style scoped>\n",
              "    .dataframe tbody tr th:only-of-type {\n",
              "        vertical-align: middle;\n",
              "    }\n",
              "\n",
              "    .dataframe tbody tr th {\n",
              "        vertical-align: top;\n",
              "    }\n",
              "\n",
              "    .dataframe thead th {\n",
              "        text-align: right;\n",
              "    }\n",
              "</style>\n",
              "<table border=\"1\" class=\"dataframe\">\n",
              "  <thead>\n",
              "    <tr style=\"text-align: right;\">\n",
              "      <th></th>\n",
              "      <th>Name</th>\n",
              "      <th>Age</th>\n",
              "      <th>Address</th>\n",
              "      <th>Qualification</th>\n",
              "    </tr>\n",
              "  </thead>\n",
              "  <tbody>\n",
              "    <tr>\n",
              "      <th>0</th>\n",
              "      <td>Jai</td>\n",
              "      <td>27</td>\n",
              "      <td>Delhi</td>\n",
              "      <td>Msc</td>\n",
              "    </tr>\n",
              "    <tr>\n",
              "      <th>1</th>\n",
              "      <td>Princi</td>\n",
              "      <td>24</td>\n",
              "      <td>Kanpur</td>\n",
              "      <td>MA</td>\n",
              "    </tr>\n",
              "    <tr>\n",
              "      <th>2</th>\n",
              "      <td>Gaurav</td>\n",
              "      <td>22</td>\n",
              "      <td>Allahabad</td>\n",
              "      <td>MCA</td>\n",
              "    </tr>\n",
              "    <tr>\n",
              "      <th>3</th>\n",
              "      <td>Anuj</td>\n",
              "      <td>32</td>\n",
              "      <td>Kannauj</td>\n",
              "      <td>Phd</td>\n",
              "    </tr>\n",
              "  </tbody>\n",
              "</table>\n",
              "</div>"
            ],
            "text/plain": [
              "     Name  Age    Address Qualification\n",
              "0     Jai   27      Delhi           Msc\n",
              "1  Princi   24     Kanpur            MA\n",
              "2  Gaurav   22  Allahabad           MCA\n",
              "3    Anuj   32    Kannauj           Phd"
            ]
          },
          "metadata": {
            "tags": []
          },
          "execution_count": 14
        }
      ]
    },
    {
      "cell_type": "code",
      "metadata": {
        "colab": {
          "base_uri": "https://localhost:8080/",
          "height": 173
        },
        "id": "n1o5jb8o1IM6",
        "outputId": "18930ad6-9240-461d-8bee-fcc57d27ffbc"
      },
      "source": [
        "df7= pd.DataFrame({'Name':['Jai', 'Princi', 'Gaurav', 'Anuj'], \n",
        "        'Age':[27, 24, 22, 32], \n",
        "        'Address':['Delhi', 'Kanpur', 'Allahabad', 'Kannauj'], \n",
        "        'Qualification':['Msc', 'MA', 'MCA', 'Phd']})\n",
        "df8= pd.DataFrame({'Name':['Jai', 'Princi', 'Gaurav', 'Anuj'], \n",
        "        'Age':[27, 24, 22, 32], \n",
        "        'Address':['Delhi', 'Kanpur', 'Allahabad', 'Kannauj'], \n",
        "        'Qualification':['Msc', 'MA', 'MCA', 'Phd']})\n",
        "\n",
        "#concatenation\n",
        "pd.concat([df7,df8],axis=1,sort=False)"
      ],
      "execution_count": null,
      "outputs": [
        {
          "output_type": "execute_result",
          "data": {
            "text/html": [
              "<div>\n",
              "<style scoped>\n",
              "    .dataframe tbody tr th:only-of-type {\n",
              "        vertical-align: middle;\n",
              "    }\n",
              "\n",
              "    .dataframe tbody tr th {\n",
              "        vertical-align: top;\n",
              "    }\n",
              "\n",
              "    .dataframe thead th {\n",
              "        text-align: right;\n",
              "    }\n",
              "</style>\n",
              "<table border=\"1\" class=\"dataframe\">\n",
              "  <thead>\n",
              "    <tr style=\"text-align: right;\">\n",
              "      <th></th>\n",
              "      <th>Name</th>\n",
              "      <th>Age</th>\n",
              "      <th>Address</th>\n",
              "      <th>Qualification</th>\n",
              "      <th>Name</th>\n",
              "      <th>Age</th>\n",
              "      <th>Address</th>\n",
              "      <th>Qualification</th>\n",
              "    </tr>\n",
              "  </thead>\n",
              "  <tbody>\n",
              "    <tr>\n",
              "      <th>0</th>\n",
              "      <td>Jai</td>\n",
              "      <td>27</td>\n",
              "      <td>Delhi</td>\n",
              "      <td>Msc</td>\n",
              "      <td>Jai</td>\n",
              "      <td>27</td>\n",
              "      <td>Delhi</td>\n",
              "      <td>Msc</td>\n",
              "    </tr>\n",
              "    <tr>\n",
              "      <th>1</th>\n",
              "      <td>Princi</td>\n",
              "      <td>24</td>\n",
              "      <td>Kanpur</td>\n",
              "      <td>MA</td>\n",
              "      <td>Princi</td>\n",
              "      <td>24</td>\n",
              "      <td>Kanpur</td>\n",
              "      <td>MA</td>\n",
              "    </tr>\n",
              "    <tr>\n",
              "      <th>2</th>\n",
              "      <td>Gaurav</td>\n",
              "      <td>22</td>\n",
              "      <td>Allahabad</td>\n",
              "      <td>MCA</td>\n",
              "      <td>Gaurav</td>\n",
              "      <td>22</td>\n",
              "      <td>Allahabad</td>\n",
              "      <td>MCA</td>\n",
              "    </tr>\n",
              "    <tr>\n",
              "      <th>3</th>\n",
              "      <td>Anuj</td>\n",
              "      <td>32</td>\n",
              "      <td>Kannauj</td>\n",
              "      <td>Phd</td>\n",
              "      <td>Anuj</td>\n",
              "      <td>32</td>\n",
              "      <td>Kannauj</td>\n",
              "      <td>Phd</td>\n",
              "    </tr>\n",
              "  </tbody>\n",
              "</table>\n",
              "</div>"
            ],
            "text/plain": [
              "     Name  Age    Address Qualification    Name  Age    Address Qualification\n",
              "0     Jai   27      Delhi           Msc     Jai   27      Delhi           Msc\n",
              "1  Princi   24     Kanpur            MA  Princi   24     Kanpur            MA\n",
              "2  Gaurav   22  Allahabad           MCA  Gaurav   22  Allahabad           MCA\n",
              "3    Anuj   32    Kannauj           Phd    Anuj   32    Kannauj           Phd"
            ]
          },
          "metadata": {
            "tags": []
          },
          "execution_count": 15
        }
      ]
    },
    {
      "cell_type": "code",
      "metadata": {
        "colab": {
          "base_uri": "https://localhost:8080/",
          "height": 173
        },
        "id": "ajwg4lnw1Wtu",
        "outputId": "5e44647e-ad6b-4cbb-b7d7-e09712cb18eb"
      },
      "source": [
        "#Merge - (outer -> union)(inner -> intersection) (left right)\n",
        "#Union\n",
        "pd.merge(df7,df8,how='left',on=\"Name\")"
      ],
      "execution_count": null,
      "outputs": [
        {
          "output_type": "execute_result",
          "data": {
            "text/html": [
              "<div>\n",
              "<style scoped>\n",
              "    .dataframe tbody tr th:only-of-type {\n",
              "        vertical-align: middle;\n",
              "    }\n",
              "\n",
              "    .dataframe tbody tr th {\n",
              "        vertical-align: top;\n",
              "    }\n",
              "\n",
              "    .dataframe thead th {\n",
              "        text-align: right;\n",
              "    }\n",
              "</style>\n",
              "<table border=\"1\" class=\"dataframe\">\n",
              "  <thead>\n",
              "    <tr style=\"text-align: right;\">\n",
              "      <th></th>\n",
              "      <th>Name</th>\n",
              "      <th>Age_x</th>\n",
              "      <th>Address_x</th>\n",
              "      <th>Qualification_x</th>\n",
              "      <th>Age_y</th>\n",
              "      <th>Address_y</th>\n",
              "      <th>Qualification_y</th>\n",
              "    </tr>\n",
              "  </thead>\n",
              "  <tbody>\n",
              "    <tr>\n",
              "      <th>0</th>\n",
              "      <td>Jai</td>\n",
              "      <td>27</td>\n",
              "      <td>Delhi</td>\n",
              "      <td>Msc</td>\n",
              "      <td>27</td>\n",
              "      <td>Delhi</td>\n",
              "      <td>Msc</td>\n",
              "    </tr>\n",
              "    <tr>\n",
              "      <th>1</th>\n",
              "      <td>Princi</td>\n",
              "      <td>24</td>\n",
              "      <td>Kanpur</td>\n",
              "      <td>MA</td>\n",
              "      <td>24</td>\n",
              "      <td>Kanpur</td>\n",
              "      <td>MA</td>\n",
              "    </tr>\n",
              "    <tr>\n",
              "      <th>2</th>\n",
              "      <td>Gaurav</td>\n",
              "      <td>22</td>\n",
              "      <td>Allahabad</td>\n",
              "      <td>MCA</td>\n",
              "      <td>22</td>\n",
              "      <td>Allahabad</td>\n",
              "      <td>MCA</td>\n",
              "    </tr>\n",
              "    <tr>\n",
              "      <th>3</th>\n",
              "      <td>Anuj</td>\n",
              "      <td>32</td>\n",
              "      <td>Kannauj</td>\n",
              "      <td>Phd</td>\n",
              "      <td>32</td>\n",
              "      <td>Kannauj</td>\n",
              "      <td>Phd</td>\n",
              "    </tr>\n",
              "  </tbody>\n",
              "</table>\n",
              "</div>"
            ],
            "text/plain": [
              "     Name  Age_x  Address_x Qualification_x  Age_y  Address_y Qualification_y\n",
              "0     Jai     27      Delhi             Msc     27      Delhi             Msc\n",
              "1  Princi     24     Kanpur              MA     24     Kanpur              MA\n",
              "2  Gaurav     22  Allahabad             MCA     22  Allahabad             MCA\n",
              "3    Anuj     32    Kannauj             Phd     32    Kannauj             Phd"
            ]
          },
          "metadata": {
            "tags": []
          },
          "execution_count": 16
        }
      ]
    },
    {
      "cell_type": "code",
      "metadata": {
        "colab": {
          "base_uri": "https://localhost:8080/",
          "height": 142
        },
        "id": "rDFV0z2J1ZR9",
        "outputId": "03738dbf-a0f2-4326-cfb2-ec13a276c378"
      },
      "source": [
        "#join\n",
        "df9=pd.DataFrame({1:[101,102,103],\n",
        "                  2:[201,202,203]},\n",
        "                 index=['i0','i1','i2'])\n",
        "df10=pd.DataFrame({3:[301,1302,303],\n",
        "                   4:[201,202,203]},\n",
        "                 index=['i0','i1','i2'])\n",
        "df9.join(df10,how='outer')"
      ],
      "execution_count": null,
      "outputs": [
        {
          "output_type": "execute_result",
          "data": {
            "text/html": [
              "<div>\n",
              "<style scoped>\n",
              "    .dataframe tbody tr th:only-of-type {\n",
              "        vertical-align: middle;\n",
              "    }\n",
              "\n",
              "    .dataframe tbody tr th {\n",
              "        vertical-align: top;\n",
              "    }\n",
              "\n",
              "    .dataframe thead th {\n",
              "        text-align: right;\n",
              "    }\n",
              "</style>\n",
              "<table border=\"1\" class=\"dataframe\">\n",
              "  <thead>\n",
              "    <tr style=\"text-align: right;\">\n",
              "      <th></th>\n",
              "      <th>1</th>\n",
              "      <th>2</th>\n",
              "      <th>3</th>\n",
              "      <th>4</th>\n",
              "    </tr>\n",
              "  </thead>\n",
              "  <tbody>\n",
              "    <tr>\n",
              "      <th>i0</th>\n",
              "      <td>101</td>\n",
              "      <td>201</td>\n",
              "      <td>301</td>\n",
              "      <td>201</td>\n",
              "    </tr>\n",
              "    <tr>\n",
              "      <th>i1</th>\n",
              "      <td>102</td>\n",
              "      <td>202</td>\n",
              "      <td>1302</td>\n",
              "      <td>202</td>\n",
              "    </tr>\n",
              "    <tr>\n",
              "      <th>i2</th>\n",
              "      <td>103</td>\n",
              "      <td>203</td>\n",
              "      <td>303</td>\n",
              "      <td>203</td>\n",
              "    </tr>\n",
              "  </tbody>\n",
              "</table>\n",
              "</div>"
            ],
            "text/plain": [
              "      1    2     3    4\n",
              "i0  101  201   301  201\n",
              "i1  102  202  1302  202\n",
              "i2  103  203   303  203"
            ]
          },
          "metadata": {
            "tags": []
          },
          "execution_count": 18
        }
      ]
    },
    {
      "cell_type": "markdown",
      "metadata": {
        "id": "b2-3Tva-1gt1"
      },
      "source": [
        "# **Matplotlib**\n",
        "- Visualization library"
      ]
    },
    {
      "cell_type": "code",
      "metadata": {
        "id": "e8jw1ysS1t92"
      },
      "source": [
        "import matplotlib.pyplot as plt\n",
        "%matplotlib inline"
      ],
      "execution_count": null,
      "outputs": []
    },
    {
      "cell_type": "code",
      "metadata": {
        "colab": {
          "base_uri": "https://localhost:8080/",
          "height": 282
        },
        "id": "WpmqU7zN12me",
        "outputId": "42d5ae99-af2e-42bb-ca19-9d80e8ac5603"
      },
      "source": [
        "plt.plot(range(10))"
      ],
      "execution_count": null,
      "outputs": [
        {
          "output_type": "execute_result",
          "data": {
            "text/plain": [
              "[<matplotlib.lines.Line2D at 0x7f8d219fc5c0>]"
            ]
          },
          "metadata": {
            "tags": []
          },
          "execution_count": 20
        },
        {
          "output_type": "display_data",
          "data": {
            "image/png": "[encoded data removed]",
            "text/plain": [
              "<Figure size 432x288 with 1 Axes>"
            ]
          },
          "metadata": {
            "tags": [],
            "needs_background": "light"
          }
        }
      ]
    },
    {
      "cell_type": "code",
      "metadata": {
        "id": "50MB1Tk918jX"
      },
      "source": [
        "price1=[93.98,97.98,99,99,76]\n",
        "price2=[98,99,97.96,87,77]\n",
        "years=[2000,2001,2002,2003,2004]"
      ],
      "execution_count": null,
      "outputs": []
    },
    {
      "cell_type": "code",
      "metadata": {
        "colab": {
          "base_uri": "https://localhost:8080/",
          "height": 300
        },
        "id": "zO2UMDHc1_b5",
        "outputId": "dbaa8746-9a1c-496d-ec2d-5a99a620dbe8"
      },
      "source": [
        "plt.scatter(years, price1)\n",
        "plt.scatter(years, price2)\n",
        "plt.xlabel(\"YEAR\")\n",
        "plt.ylabel(\"PRICE\")\n",
        "plt.axis([1999,2005,20,180])"
      ],
      "execution_count": null,
      "outputs": [
        {
          "output_type": "execute_result",
          "data": {
            "text/plain": [
              "(1999.0, 2005.0, 20.0, 180.0)"
            ]
          },
          "metadata": {
            "tags": []
          },
          "execution_count": 22
        },
        {
          "output_type": "display_data",
          "data": {
            "image/png": "[encoded data removed]",
            "text/plain": [
              "<Figure size 432x288 with 1 Axes>"
            ]
          },
          "metadata": {
            "tags": [],
            "needs_background": "light"
          }
        }
      ]
    },
    {
      "cell_type": "code",
      "metadata": {
        "colab": {
          "base_uri": "https://localhost:8080/",
          "height": 329
        },
        "id": "mHLJ6gKU2FOX",
        "outputId": "6ec690e1-066a-496d-c7ee-1047a4bf9b59"
      },
      "source": [
        "#Figures\n",
        "fig_1=plt.figure(1, figsize=(6.4,4.8))\n",
        "chart_1=fig_1.add_subplot(121)\n",
        "chart_2=fig_1.add_subplot(122)\n",
        "\n",
        "chart_1.plot(years,price1)\n",
        "chart_2.plot(years,price2)"
      ],
      "execution_count": null,
      "outputs": [
        {
          "output_type": "execute_result",
          "data": {
            "text/plain": [
              "[<matplotlib.lines.Line2D at 0x7f8d214302b0>]"
            ]
          },
          "metadata": {
            "tags": []
          },
          "execution_count": 23
        },
        {
          "output_type": "display_data",
          "data": {
            "image/png": "[encoded data removed]",
            "text/plain": [
              "<Figure size 460.8x345.6 with 2 Axes>"
            ]
          },
          "metadata": {
            "tags": [],
            "needs_background": "light"
          }
        }
      ]
    },
    {
      "cell_type": "code",
      "metadata": {
        "id": "ZM1iqPfA2Hje",
        "colab": {
          "base_uri": "https://localhost:8080/",
          "height": 201
        },
        "outputId": "dd196d38-55b7-4636-c9c8-b69099b78ba8"
      },
      "source": [
        "#FASTER\n",
        "fig2,axes=plt.subplots(1,2,figsize=(20,5))\n",
        "axes[0].scatter(years,price1)\n",
        "axes[1].plot(years,price2)"
      ],
      "execution_count": null,
      "outputs": [
        {
          "output_type": "execute_result",
          "data": {
            "text/plain": [
              "[<matplotlib.lines.Line2D at 0x7f8d2135cc18>]"
            ]
          },
          "metadata": {
            "tags": []
          },
          "execution_count": 24
        },
        {
          "output_type": "display_data",
          "data": {
            "image/png": "[encoded data removed]",
            "text/plain": [
              "<Figure size 1440x360 with 2 Axes>"
            ]
          },
          "metadata": {
            "tags": [],
            "needs_background": "light"
          }
        }
      ]
    },
    {
      "cell_type": "markdown",
      "metadata": {
        "id": "ccPbu7EqG2Bx"
      },
      "source": [
        "# Tkinter Rivals\n",
        "- Kivy\n",
        "- wxPython\n",
        "- Qt\n",
        "\n",
        "# Steps of building\n",
        "- Importing Libraries\n",
        "- Creation of application\n",
        "- Adding widgets - elements of GUI made for interaction of User : labels, button, combobox, radiobutton \n",
        "- Entering the main event loop\n"
      ]
    }
  ]
}